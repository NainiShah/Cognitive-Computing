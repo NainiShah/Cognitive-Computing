{
 "cells": [
  {
   "cell_type": "markdown",
   "metadata": {},
   "source": [
    "#### 1) load numpy arrays\n",
    "#### 2) pass it to the model for training\n",
    "#### 3) plot and evaluate model"
   ]
  },
  {
   "cell_type": "code",
   "execution_count": 43,
   "metadata": {},
   "outputs": [],
   "source": [
    "import numpy"
   ]
  },
  {
   "cell_type": "code",
   "execution_count": 44,
   "metadata": {},
   "outputs": [],
   "source": [
    "train_d = numpy.load('train_data.npy')"
   ]
  },
  {
   "cell_type": "code",
   "execution_count": 45,
   "metadata": {},
   "outputs": [],
   "source": [
    "train_l = numpy.load('train_label.npy')\n"
   ]
  },
  {
   "cell_type": "code",
   "execution_count": 46,
   "metadata": {},
   "outputs": [],
   "source": [
    "test_d = numpy.load('test_data.npy')\n"
   ]
  },
  {
   "cell_type": "code",
   "execution_count": 47,
   "metadata": {},
   "outputs": [],
   "source": [
    "test_l = numpy.load('test_label.npy')"
   ]
  },
  {
   "cell_type": "code",
   "execution_count": 48,
   "metadata": {},
   "outputs": [],
   "source": [
    "import matplotlib.pyplot as plt\n",
    "\n",
    "def plot_history(history):\n",
    "    plt.plot(history.history['acc'], marker='.')\n",
    "    plt.plot(history.history['val_acc'], marker='.')\n",
    "    plt.title('model accuracy')\n",
    "    plt.xlabel('epoch')\n",
    "    plt.ylabel('accuracy')\n",
    "    plt.grid()\n",
    "    plt.legend(['acc', 'val_acc'], loc='lower right')\n",
    "    plt.show()\n",
    "    plt.savefig('model_accuracy.png')\n",
    "    plt.close()\n",
    "\n",
    "    plt.plot(history.history['loss'], marker='.')\n",
    "    plt.plot(history.history['val_loss'], marker='.')\n",
    "    plt.title('model loss')\n",
    "    plt.xlabel('epoch')\n",
    "    plt.ylabel('loss')\n",
    "    plt.grid()\n",
    "    plt.legend(['loss', 'val_loss'], loc='upper right')\n",
    "    plt.show()\n",
    "    plt.savefig('model_loss.png')\n",
    "    plt.close()"
   ]
  },
  {
   "cell_type": "code",
   "execution_count": 49,
   "metadata": {},
   "outputs": [],
   "source": [
    "def save_history(history):\n",
    "    loss = history.history['loss']\n",
    "    acc = history.history['acc']\n",
    "    val_loss = history.history['val_loss']\n",
    "    val_acc = history.history['val_acc']\n",
    "    nb_epoch = len(acc)\n",
    "\n",
    "    with open('result.txt', 'w') as fp:\n",
    "        fp.write('epoch\\tloss\\tacc\\tval_loss\\tval_acc\\n')\n",
    "        for i in range(nb_epoch):\n",
    "            fp.write('{}\\t{}\\t{}\\t{}\\t{}\\n'.format(\n",
    "                i, loss[i], acc[i], val_loss[i], val_acc[i]))"
   ]
  },
  {
   "cell_type": "code",
   "execution_count": 51,
   "metadata": {
    "scrolled": true
   },
   "outputs": [
    {
     "name": "stderr",
     "output_type": "stream",
     "text": [
      "/home/ubuntu/anaconda3/envs/tensorflow_p36/lib/python3.6/site-packages/ipykernel/__main__.py:14: UserWarning: Update your `Conv3D` call to the Keras 2 API: `Conv3D(128, kernel_size=(3, 3, 3), input_shape=(3, 16, 11..., padding=\"same\")`\n",
      "/home/ubuntu/anaconda3/envs/tensorflow_p36/lib/python3.6/site-packages/ipykernel/__main__.py:16: UserWarning: Update your `Conv3D` call to the Keras 2 API: `Conv3D(64, kernel_size=(3, 3, 3), padding=\"same\")`\n",
      "/home/ubuntu/anaconda3/envs/tensorflow_p36/lib/python3.6/site-packages/ipykernel/__main__.py:18: UserWarning: Update your `MaxPooling3D` call to the Keras 2 API: `MaxPooling3D(pool_size=(3, 3, 3), padding=\"same\")`\n",
      "/home/ubuntu/anaconda3/envs/tensorflow_p36/lib/python3.6/site-packages/ipykernel/__main__.py:21: UserWarning: Update your `Conv3D` call to the Keras 2 API: `Conv3D(64, kernel_size=(3, 3, 3), padding=\"same\")`\n",
      "/home/ubuntu/anaconda3/envs/tensorflow_p36/lib/python3.6/site-packages/ipykernel/__main__.py:23: UserWarning: Update your `Conv3D` call to the Keras 2 API: `Conv3D(64, kernel_size=(3, 3, 3), padding=\"same\")`\n",
      "/home/ubuntu/anaconda3/envs/tensorflow_p36/lib/python3.6/site-packages/ipykernel/__main__.py:25: UserWarning: Update your `MaxPooling3D` call to the Keras 2 API: `MaxPooling3D(pool_size=(3, 3, 3), padding=\"same\")`\n"
     ]
    },
    {
     "name": "stdout",
     "output_type": "stream",
     "text": [
      "_________________________________________________________________\n",
      "Layer (type)                 Output Shape              Param #   \n",
      "=================================================================\n",
      "conv3d_69 (Conv3D)           (None, 3, 16, 112, 128)   387200    \n",
      "_________________________________________________________________\n",
      "activation_56 (Activation)   (None, 3, 16, 112, 128)   0         \n",
      "_________________________________________________________________\n",
      "conv3d_70 (Conv3D)           (None, 3, 16, 112, 64)    221248    \n",
      "_________________________________________________________________\n",
      "activation_57 (Activation)   (None, 3, 16, 112, 64)    0         \n",
      "_________________________________________________________________\n",
      "max_pooling3d_39 (MaxPooling (None, 1, 6, 38, 64)      0         \n",
      "_________________________________________________________________\n",
      "dropout_25 (Dropout)         (None, 1, 6, 38, 64)      0         \n",
      "_________________________________________________________________\n",
      "conv3d_71 (Conv3D)           (None, 1, 6, 38, 64)      110656    \n",
      "_________________________________________________________________\n",
      "activation_58 (Activation)   (None, 1, 6, 38, 64)      0         \n",
      "_________________________________________________________________\n",
      "conv3d_72 (Conv3D)           (None, 1, 6, 38, 64)      110656    \n",
      "_________________________________________________________________\n",
      "activation_59 (Activation)   (None, 1, 6, 38, 64)      0         \n",
      "_________________________________________________________________\n",
      "max_pooling3d_40 (MaxPooling (None, 1, 2, 13, 64)      0         \n",
      "_________________________________________________________________\n",
      "dropout_26 (Dropout)         (None, 1, 2, 13, 64)      0         \n",
      "_________________________________________________________________\n",
      "flatten_8 (Flatten)          (None, 1664)              0         \n",
      "_________________________________________________________________\n",
      "dense_16 (Dense)             (None, 512)               852480    \n",
      "_________________________________________________________________\n",
      "dropout_27 (Dropout)         (None, 512)               0         \n",
      "_________________________________________________________________\n",
      "dense_17 (Dense)             (None, 11)                5643      \n",
      "=================================================================\n",
      "Total params: 1,687,883\n",
      "Trainable params: 1,687,883\n",
      "Non-trainable params: 0\n",
      "_________________________________________________________________\n",
      "Train on 1291 samples, validate on 306 samples\n",
      "Epoch 1/50\n",
      "1291/1291 [==============================] - 34s 26ms/step - loss: 2.6948 - acc: 0.0953 - val_loss: 2.5100 - val_acc: 0.0621\n",
      "Epoch 2/50\n",
      "1291/1291 [==============================] - 23s 18ms/step - loss: 2.5769 - acc: 0.1139 - val_loss: 2.4600 - val_acc: 0.0163\n",
      "Epoch 3/50\n",
      "1291/1291 [==============================] - 22s 17ms/step - loss: 2.5937 - acc: 0.0844 - val_loss: 2.4945 - val_acc: 0.0621\n",
      "Epoch 4/50\n",
      "1291/1291 [==============================] - 22s 17ms/step - loss: 2.5748 - acc: 0.0991 - val_loss: 2.4676 - val_acc: 0.0621\n",
      "Epoch 5/50\n",
      "1291/1291 [==============================] - 22s 17ms/step - loss: 2.5303 - acc: 0.1015 - val_loss: 2.4730 - val_acc: 0.0621\n",
      "Epoch 6/50\n",
      "1291/1291 [==============================] - 22s 17ms/step - loss: 2.5308 - acc: 0.0930 - val_loss: 2.4356 - val_acc: 0.0621\n",
      "Epoch 7/50\n",
      "1291/1291 [==============================] - 22s 17ms/step - loss: 2.4718 - acc: 0.1294 - val_loss: 2.4267 - val_acc: 0.0752\n",
      "Epoch 8/50\n",
      "1291/1291 [==============================] - 22s 17ms/step - loss: 2.4283 - acc: 0.1216 - val_loss: 2.3772 - val_acc: 0.0882\n",
      "Epoch 9/50\n",
      "1291/1291 [==============================] - 22s 17ms/step - loss: 2.3365 - acc: 0.1596 - val_loss: 2.3496 - val_acc: 0.1340\n",
      "Epoch 10/50\n",
      "1291/1291 [==============================] - 22s 17ms/step - loss: 2.2826 - acc: 0.1797 - val_loss: 2.3531 - val_acc: 0.1732\n",
      "Epoch 11/50\n",
      "1291/1291 [==============================] - 22s 17ms/step - loss: 2.2084 - acc: 0.2161 - val_loss: 2.2945 - val_acc: 0.1699\n",
      "Epoch 12/50\n",
      "1291/1291 [==============================] - 22s 17ms/step - loss: 2.1468 - acc: 0.2293 - val_loss: 2.2996 - val_acc: 0.1569\n",
      "Epoch 13/50\n",
      "1291/1291 [==============================] - 22s 17ms/step - loss: 2.0797 - acc: 0.2874 - val_loss: 2.2658 - val_acc: 0.1895\n",
      "Epoch 14/50\n",
      "1291/1291 [==============================] - 22s 17ms/step - loss: 1.9946 - acc: 0.3230 - val_loss: 2.2114 - val_acc: 0.2026\n",
      "Epoch 15/50\n",
      "1291/1291 [==============================] - 22s 17ms/step - loss: 1.9214 - acc: 0.3532 - val_loss: 2.1519 - val_acc: 0.2320\n",
      "Epoch 16/50\n",
      "1291/1291 [==============================] - 22s 17ms/step - loss: 1.8081 - acc: 0.3981 - val_loss: 2.1409 - val_acc: 0.2582\n",
      "Epoch 17/50\n",
      "1291/1291 [==============================] - 22s 17ms/step - loss: 1.8047 - acc: 0.4028 - val_loss: 2.0927 - val_acc: 0.2941\n",
      "Epoch 18/50\n",
      "1291/1291 [==============================] - 22s 17ms/step - loss: 1.7270 - acc: 0.4175 - val_loss: 2.1363 - val_acc: 0.2582\n",
      "Epoch 19/50\n",
      "1291/1291 [==============================] - 22s 17ms/step - loss: 1.6511 - acc: 0.4376 - val_loss: 2.1346 - val_acc: 0.2386\n",
      "Epoch 20/50\n",
      "1291/1291 [==============================] - 22s 17ms/step - loss: 1.6161 - acc: 0.4655 - val_loss: 2.1685 - val_acc: 0.2288\n",
      "Epoch 21/50\n",
      "1291/1291 [==============================] - 22s 17ms/step - loss: 1.5475 - acc: 0.4779 - val_loss: 2.0913 - val_acc: 0.2647\n",
      "Epoch 22/50\n",
      "1291/1291 [==============================] - 22s 17ms/step - loss: 1.5189 - acc: 0.4965 - val_loss: 2.0838 - val_acc: 0.2712\n",
      "Epoch 23/50\n",
      "1291/1291 [==============================] - 22s 17ms/step - loss: 1.4654 - acc: 0.5182 - val_loss: 2.0809 - val_acc: 0.2647\n",
      "Epoch 24/50\n",
      "1291/1291 [==============================] - 22s 17ms/step - loss: 1.3988 - acc: 0.5213 - val_loss: 2.0214 - val_acc: 0.3105\n",
      "Epoch 25/50\n",
      "1291/1291 [==============================] - 22s 17ms/step - loss: 1.3852 - acc: 0.5337 - val_loss: 1.9286 - val_acc: 0.3562\n",
      "Epoch 26/50\n",
      "1291/1291 [==============================] - 22s 17ms/step - loss: 1.3669 - acc: 0.5345 - val_loss: 1.9882 - val_acc: 0.3268\n",
      "Epoch 27/50\n",
      "1291/1291 [==============================] - 22s 17ms/step - loss: 1.3097 - acc: 0.5562 - val_loss: 2.0846 - val_acc: 0.2810\n",
      "Epoch 28/50\n",
      "1291/1291 [==============================] - 22s 17ms/step - loss: 1.2657 - acc: 0.5631 - val_loss: 2.0365 - val_acc: 0.2908\n",
      "Epoch 29/50\n",
      "1291/1291 [==============================] - 22s 17ms/step - loss: 1.1917 - acc: 0.5957 - val_loss: 2.0826 - val_acc: 0.3039\n",
      "Epoch 30/50\n",
      "1291/1291 [==============================] - 22s 17ms/step - loss: 1.1659 - acc: 0.6003 - val_loss: 2.0971 - val_acc: 0.2974\n",
      "Epoch 31/50\n",
      "1291/1291 [==============================] - 22s 17ms/step - loss: 1.1344 - acc: 0.6204 - val_loss: 2.0926 - val_acc: 0.3137\n",
      "Epoch 32/50\n",
      "1291/1291 [==============================] - 22s 17ms/step - loss: 1.1310 - acc: 0.6282 - val_loss: 2.0673 - val_acc: 0.3203\n",
      "Epoch 33/50\n",
      "1291/1291 [==============================] - 22s 17ms/step - loss: 1.0934 - acc: 0.6297 - val_loss: 2.0542 - val_acc: 0.3170\n",
      "Epoch 34/50\n",
      "1291/1291 [==============================] - 22s 17ms/step - loss: 1.0363 - acc: 0.6576 - val_loss: 2.0988 - val_acc: 0.3333\n",
      "Epoch 35/50\n",
      "1291/1291 [==============================] - 22s 17ms/step - loss: 0.9798 - acc: 0.6863 - val_loss: 1.9759 - val_acc: 0.3529\n",
      "Epoch 36/50\n",
      "1291/1291 [==============================] - 22s 17ms/step - loss: 0.9574 - acc: 0.6770 - val_loss: 2.0996 - val_acc: 0.3399\n",
      "Epoch 37/50\n",
      "1291/1291 [==============================] - 22s 17ms/step - loss: 0.9835 - acc: 0.6723 - val_loss: 2.1040 - val_acc: 0.3137\n",
      "Epoch 38/50\n",
      "1291/1291 [==============================] - 22s 17ms/step - loss: 0.9142 - acc: 0.6940 - val_loss: 2.0581 - val_acc: 0.3464\n",
      "Epoch 39/50\n",
      "1291/1291 [==============================] - 22s 17ms/step - loss: 0.8672 - acc: 0.7180 - val_loss: 1.9997 - val_acc: 0.3660\n",
      "Epoch 40/50\n",
      "1291/1291 [==============================] - 22s 17ms/step - loss: 0.8632 - acc: 0.7103 - val_loss: 2.1338 - val_acc: 0.3595\n",
      "Epoch 41/50\n",
      "1291/1291 [==============================] - 22s 17ms/step - loss: 0.8612 - acc: 0.7242 - val_loss: 2.1474 - val_acc: 0.3431\n",
      "Epoch 42/50\n"
     ]
    },
    {
     "name": "stdout",
     "output_type": "stream",
     "text": [
      "1291/1291 [==============================] - 22s 17ms/step - loss: 0.8354 - acc: 0.7258 - val_loss: 2.1667 - val_acc: 0.3725\n",
      "Epoch 43/50\n",
      "1291/1291 [==============================] - 22s 17ms/step - loss: 0.7967 - acc: 0.7359 - val_loss: 2.2003 - val_acc: 0.3497\n",
      "Epoch 44/50\n",
      "1291/1291 [==============================] - 22s 17ms/step - loss: 0.7729 - acc: 0.7436 - val_loss: 2.1463 - val_acc: 0.3235\n",
      "Epoch 45/50\n",
      "1291/1291 [==============================] - 22s 17ms/step - loss: 0.7942 - acc: 0.7335 - val_loss: 2.0691 - val_acc: 0.3660\n",
      "Epoch 46/50\n",
      "1291/1291 [==============================] - 22s 17ms/step - loss: 0.8071 - acc: 0.7297 - val_loss: 2.2070 - val_acc: 0.3464\n",
      "Epoch 47/50\n",
      "1291/1291 [==============================] - 22s 17ms/step - loss: 0.7256 - acc: 0.7645 - val_loss: 2.0883 - val_acc: 0.3595\n",
      "Epoch 48/50\n",
      "1291/1291 [==============================] - 22s 17ms/step - loss: 0.7287 - acc: 0.7622 - val_loss: 2.0967 - val_acc: 0.3791\n",
      "Epoch 49/50\n",
      "1291/1291 [==============================] - 22s 17ms/step - loss: 0.6877 - acc: 0.7823 - val_loss: 2.1996 - val_acc: 0.3693\n",
      "Epoch 50/50\n",
      "1291/1291 [==============================] - 22s 17ms/step - loss: 0.6668 - acc: 0.7878 - val_loss: 2.1113 - val_acc: 0.3824\n"
     ]
    },
    {
     "data": {
      "image/png": "[encoded data removed]",
      "text/plain": [
       "<matplotlib.figure.Figure at 0x7f8ecd88a470>"
      ]
     },
     "metadata": {},
     "output_type": "display_data"
    },
    {
     "data": {
      "image/png": "[encoded data removed]",
      "text/plain": [
       "<matplotlib.figure.Figure at 0x7f8ecf87bef0>"
      ]
     },
     "metadata": {},
     "output_type": "display_data"
    },
    {
     "name": "stdout",
     "output_type": "stream",
     "text": [
      "306/306 [==============================] - 2s 8ms/step\n",
      "Test loss: 2.1113045916837803\n",
      "Test accuracy: 0.382352941371257\n"
     ]
    }
   ],
   "source": [
    "from keras.layers import (Activation, Conv3D, Dense, Dropout, Flatten,\n",
    "                          MaxPooling3D)\n",
    "from keras.layers.advanced_activations import LeakyReLU\n",
    "from keras.losses import categorical_crossentropy\n",
    "from keras.models import Sequential\n",
    "from keras.optimizers import Adam\n",
    "from keras.utils import np_utils\n",
    "from keras.utils.vis_utils import plot_model\n",
    "from sklearn.model_selection import train_test_split\n",
    "from keras.utils.vis_utils import plot_model\n",
    "# Define model\n",
    "model = Sequential()\n",
    "model.add(Conv3D(128, kernel_size=(3, 3, 3), input_shape=(\n",
    "train_d.shape[1:]), border_mode='same'))\n",
    "model.add(Activation('relu'))\n",
    "model.add(Conv3D(64, kernel_size=(3, 3, 3), border_mode='same'))\n",
    "model.add(Activation('softmax'))\n",
    "model.add(MaxPooling3D(pool_size=(3, 3, 3), border_mode='same'))\n",
    "model.add(Dropout(0.5))\n",
    "\n",
    "model.add(Conv3D(64, kernel_size=(3, 3, 3), border_mode='same'))\n",
    "model.add(Activation('relu'))\n",
    "model.add(Conv3D(64, kernel_size=(3, 3, 3), border_mode='same'))\n",
    "model.add(Activation('softmax'))\n",
    "model.add(MaxPooling3D(pool_size=(3, 3, 3), border_mode='same'))\n",
    "model.add(Dropout(0.5))\n",
    "\n",
    "\n",
    "model.add(Flatten())\n",
    "model.add(Dense(512, activation='sigmoid'))\n",
    "model.add(Dropout(0.5))\n",
    "model.add(Dense(11, activation='softmax'))\n",
    "\n",
    "model.compile(loss=categorical_crossentropy,optimizer=Adam(), metrics=['accuracy'])\n",
    "model.summary()\n",
    "#plot_model(model, show_shapes=True,to_file=os.path.join('D:/cognitive/sports/', 'model.png'))\n",
    "#train_d, train_l, test_d, test_l = train_test_split(X, Y, test_size=0.2, random_state=43)\n",
    "\n",
    "history = model.fit(train_d, train_l, validation_data=(test_d, test_l), batch_size=130,epochs=50, verbose=1, shuffle=True)\n",
    "plot_history(history)\n",
    "save_history(history)\n",
    "#model.evaluate(test_d, test_l, verbose=1)\n",
    "model_json = model.to_json()\n",
    "   \n",
    "with open( 'ucf101_3dcnnmodel.json', 'w') as json_file:\n",
    "    json_file.write(model_json)\n",
    "model.save_weights( 'ucf101_3dcnnmodel.hd5')\n",
    "\n",
    "loss, acc = model.evaluate(test_d, test_l, verbose=1)\n",
    "print('Test loss:', loss)\n",
    "print('Test accuracy:', acc)\n"
   ]
  },
  {
   "cell_type": "code",
   "execution_count": null,
   "metadata": {},
   "outputs": [],
   "source": []
  }
 ],
 "metadata": {
  "kernelspec": {
   "display_name": "Python [conda env:tensorflow_p36]",
   "language": "python",
   "name": "conda-env-tensorflow_p36-py"
  },
  "language_info": {
   "codemirror_mode": {
    "name": "ipython",
    "version": 3
   },
   "file_extension": ".py",
   "mimetype": "text/x-python",
   "name": "python",
   "nbconvert_exporter": "python",
   "pygments_lexer": "ipython3",
   "version": "3.6.4"
  }
 },
 "nbformat": 4,
 "nbformat_minor": 2
}
